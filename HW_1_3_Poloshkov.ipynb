{
  "nbformat": 4,
  "nbformat_minor": 0,
  "metadata": {
    "colab": {
      "provenance": [],
      "collapsed_sections": []
    },
    "kernelspec": {
      "name": "python3",
      "display_name": "Python 3"
    },
    "language_info": {
      "name": "python"
    }
  },
  "cells": [
    {
      "cell_type": "code",
      "execution_count": 1,
      "metadata": {
        "id": "aRWriztwWOwn"
      },
      "outputs": [],
      "source": [
        "# !pip install roman-arabic-numerals\n",
        "from roman_arabic_numerals import conv\n",
        "import time as time\n",
        "\n",
        "import pandas as pd\n",
        "import numpy as np\n",
        "\n",
        "import requests"
      ]
    },
    {
      "cell_type": "markdown",
      "source": [
        "### Задание №1"
      ],
      "metadata": {
        "id": "gY75zBsxkQlq"
      }
    },
    {
      "cell_type": "code",
      "source": [
        "%%time \n",
        "# %who \n",
        "\n",
        "number_of_pages = 50\n",
        "\n",
        "job_title = ['python разработчик']\n",
        "for job in job_title:\n",
        "    data=[]\n",
        "    for i in range(number_of_pages):\n",
        "        url = 'https://api.hh.ru/vacancies'\n",
        "        par = {'text': job,'per_page':'10', 'page':i}\n",
        "        r = requests.get(url, params=par)\n",
        "        time.sleep(2)\n",
        "        e=r.json()\n",
        "        data.append(e)\n",
        "        vacancy_details = data[0]['items'][0].keys()\n",
        "        df = pd.DataFrame(columns= list(vacancy_details))\n",
        "        ind = 0\n",
        "        for i in range(len(data)):\n",
        "            for j in range(len(data[i]['items'])):\n",
        "                df.loc[ind] = data[i]['items'][j]\n",
        "                ind+=1\n",
        "\n",
        "display(df.head(2),\n",
        "        e['items'][0])"
      ],
      "metadata": {
        "colab": {
          "base_uri": "https://localhost:8080/",
          "height": 969
        },
        "id": "-RhONnRAkOth",
        "outputId": "3b6f84f2-ce49-45a6-f57c-1b201f0cab88"
      },
      "execution_count": 2,
      "outputs": [
        {
          "output_type": "display_data",
          "data": {
            "text/plain": [
              "         id premium                     name department has_test  \\\n",
              "0  71147348   False  Разработчик C# / Python       None    False   \n",
              "1  70907292   False       Python Разработчик       None    False   \n",
              "\n",
              "  response_letter_required                                               area  \\\n",
              "0                    False  {'id': '1', 'name': 'Москва', 'url': 'https://...   \n",
              "1                    False  {'id': '159', 'name': 'Астана', 'url': 'https:...   \n",
              "\n",
              "                                              salary  \\\n",
              "0  {'from': 300000, 'to': 500000, 'currency': 'RU...   \n",
              "1  {'from': 200000, 'to': 1500000, 'currency': 'K...   \n",
              "\n",
              "                                 type  \\\n",
              "0  {'id': 'open', 'name': 'Открытая'}   \n",
              "1  {'id': 'open', 'name': 'Открытая'}   \n",
              "\n",
              "                                             address  ...  \\\n",
              "0  {'city': 'Москва', 'street': 'проспект Вернадс...  ...   \n",
              "1                                               None  ...   \n",
              "\n",
              "                    alternate_url relations  \\\n",
              "0  https://hh.ru/vacancy/71147348        []   \n",
              "1  https://hh.ru/vacancy/70907292        []   \n",
              "\n",
              "                                            employer  \\\n",
              "0  {'id': '9261916', 'name': 'Дубайт', 'url': 'ht...   \n",
              "1  {'id': '2582181', 'name': 'Encom Systems Techn...   \n",
              "\n",
              "                                             snippet contacts  \\\n",
              "0  {'requirement': 'Опыт разработки приложений на...     None   \n",
              "1  {'requirement': 'Требования: Реальный практиче...     None   \n",
              "\n",
              "                                   schedule working_days  \\\n",
              "0  {'id': 'fullDay', 'name': 'Полный день'}           []   \n",
              "1  {'id': 'fullDay', 'name': 'Полный день'}           []   \n",
              "\n",
              "  working_time_intervals working_time_modes accept_temporary  \n",
              "0                     []                 []            False  \n",
              "1                     []                 []            False  \n",
              "\n",
              "[2 rows x 29 columns]"
            ],
            "text/html": [
              "\n",
              "  <div id=\"df-dd307e22-aa14-4f48-b1e5-23287281b654\">\n",
              "    <div class=\"colab-df-container\">\n",
              "      <div>\n",
              "<style scoped>\n",
              "    .dataframe tbody tr th:only-of-type {\n",
              "        vertical-align: middle;\n",
              "    }\n",
              "\n",
              "    .dataframe tbody tr th {\n",
              "        vertical-align: top;\n",
              "    }\n",
              "\n",
              "    .dataframe thead th {\n",
              "        text-align: right;\n",
              "    }\n",
              "</style>\n",
              "<table border=\"1\" class=\"dataframe\">\n",
              "  <thead>\n",
              "    <tr style=\"text-align: right;\">\n",
              "      <th></th>\n",
              "      <th>id</th>\n",
              "      <th>premium</th>\n",
              "      <th>name</th>\n",
              "      <th>department</th>\n",
              "      <th>has_test</th>\n",
              "      <th>response_letter_required</th>\n",
              "      <th>area</th>\n",
              "      <th>salary</th>\n",
              "      <th>type</th>\n",
              "      <th>address</th>\n",
              "      <th>...</th>\n",
              "      <th>alternate_url</th>\n",
              "      <th>relations</th>\n",
              "      <th>employer</th>\n",
              "      <th>snippet</th>\n",
              "      <th>contacts</th>\n",
              "      <th>schedule</th>\n",
              "      <th>working_days</th>\n",
              "      <th>working_time_intervals</th>\n",
              "      <th>working_time_modes</th>\n",
              "      <th>accept_temporary</th>\n",
              "    </tr>\n",
              "  </thead>\n",
              "  <tbody>\n",
              "    <tr>\n",
              "      <th>0</th>\n",
              "      <td>71147348</td>\n",
              "      <td>False</td>\n",
              "      <td>Разработчик C# / Python</td>\n",
              "      <td>None</td>\n",
              "      <td>False</td>\n",
              "      <td>False</td>\n",
              "      <td>{'id': '1', 'name': 'Москва', 'url': 'https://...</td>\n",
              "      <td>{'from': 300000, 'to': 500000, 'currency': 'RU...</td>\n",
              "      <td>{'id': 'open', 'name': 'Открытая'}</td>\n",
              "      <td>{'city': 'Москва', 'street': 'проспект Вернадс...</td>\n",
              "      <td>...</td>\n",
              "      <td>https://hh.ru/vacancy/71147348</td>\n",
              "      <td>[]</td>\n",
              "      <td>{'id': '9261916', 'name': 'Дубайт', 'url': 'ht...</td>\n",
              "      <td>{'requirement': 'Опыт разработки приложений на...</td>\n",
              "      <td>None</td>\n",
              "      <td>{'id': 'fullDay', 'name': 'Полный день'}</td>\n",
              "      <td>[]</td>\n",
              "      <td>[]</td>\n",
              "      <td>[]</td>\n",
              "      <td>False</td>\n",
              "    </tr>\n",
              "    <tr>\n",
              "      <th>1</th>\n",
              "      <td>70907292</td>\n",
              "      <td>False</td>\n",
              "      <td>Python Разработчик</td>\n",
              "      <td>None</td>\n",
              "      <td>False</td>\n",
              "      <td>False</td>\n",
              "      <td>{'id': '159', 'name': 'Астана', 'url': 'https:...</td>\n",
              "      <td>{'from': 200000, 'to': 1500000, 'currency': 'K...</td>\n",
              "      <td>{'id': 'open', 'name': 'Открытая'}</td>\n",
              "      <td>None</td>\n",
              "      <td>...</td>\n",
              "      <td>https://hh.ru/vacancy/70907292</td>\n",
              "      <td>[]</td>\n",
              "      <td>{'id': '2582181', 'name': 'Encom Systems Techn...</td>\n",
              "      <td>{'requirement': 'Требования: Реальный практиче...</td>\n",
              "      <td>None</td>\n",
              "      <td>{'id': 'fullDay', 'name': 'Полный день'}</td>\n",
              "      <td>[]</td>\n",
              "      <td>[]</td>\n",
              "      <td>[]</td>\n",
              "      <td>False</td>\n",
              "    </tr>\n",
              "  </tbody>\n",
              "</table>\n",
              "<p>2 rows × 29 columns</p>\n",
              "</div>\n",
              "      <button class=\"colab-df-convert\" onclick=\"convertToInteractive('df-dd307e22-aa14-4f48-b1e5-23287281b654')\"\n",
              "              title=\"Convert this dataframe to an interactive table.\"\n",
              "              style=\"display:none;\">\n",
              "        \n",
              "  <svg xmlns=\"http://www.w3.org/2000/svg\" height=\"24px\"viewBox=\"0 0 24 24\"\n",
              "       width=\"24px\">\n",
              "    <path d=\"M0 0h24v24H0V0z\" fill=\"none\"/>\n",
              "    <path d=\"M18.56 5.44l.94 2.06.94-2.06 2.06-.94-2.06-.94-.94-2.06-.94 2.06-2.06.94zm-11 1L8.5 8.5l.94-2.06 2.06-.94-2.06-.94L8.5 2.5l-.94 2.06-2.06.94zm10 10l.94 2.06.94-2.06 2.06-.94-2.06-.94-.94-2.06-.94 2.06-2.06.94z\"/><path d=\"M17.41 7.96l-1.37-1.37c-.4-.4-.92-.59-1.43-.59-.52 0-1.04.2-1.43.59L10.3 9.45l-7.72 7.72c-.78.78-.78 2.05 0 2.83L4 21.41c.39.39.9.59 1.41.59.51 0 1.02-.2 1.41-.59l7.78-7.78 2.81-2.81c.8-.78.8-2.07 0-2.86zM5.41 20L4 18.59l7.72-7.72 1.47 1.35L5.41 20z\"/>\n",
              "  </svg>\n",
              "      </button>\n",
              "      \n",
              "  <style>\n",
              "    .colab-df-container {\n",
              "      display:flex;\n",
              "      flex-wrap:wrap;\n",
              "      gap: 12px;\n",
              "    }\n",
              "\n",
              "    .colab-df-convert {\n",
              "      background-color: #E8F0FE;\n",
              "      border: none;\n",
              "      border-radius: 50%;\n",
              "      cursor: pointer;\n",
              "      display: none;\n",
              "      fill: #1967D2;\n",
              "      height: 32px;\n",
              "      padding: 0 0 0 0;\n",
              "      width: 32px;\n",
              "    }\n",
              "\n",
              "    .colab-df-convert:hover {\n",
              "      background-color: #E2EBFA;\n",
              "      box-shadow: 0px 1px 2px rgba(60, 64, 67, 0.3), 0px 1px 3px 1px rgba(60, 64, 67, 0.15);\n",
              "      fill: #174EA6;\n",
              "    }\n",
              "\n",
              "    [theme=dark] .colab-df-convert {\n",
              "      background-color: #3B4455;\n",
              "      fill: #D2E3FC;\n",
              "    }\n",
              "\n",
              "    [theme=dark] .colab-df-convert:hover {\n",
              "      background-color: #434B5C;\n",
              "      box-shadow: 0px 1px 3px 1px rgba(0, 0, 0, 0.15);\n",
              "      filter: drop-shadow(0px 1px 2px rgba(0, 0, 0, 0.3));\n",
              "      fill: #FFFFFF;\n",
              "    }\n",
              "  </style>\n",
              "\n",
              "      <script>\n",
              "        const buttonEl =\n",
              "          document.querySelector('#df-dd307e22-aa14-4f48-b1e5-23287281b654 button.colab-df-convert');\n",
              "        buttonEl.style.display =\n",
              "          google.colab.kernel.accessAllowed ? 'block' : 'none';\n",
              "\n",
              "        async function convertToInteractive(key) {\n",
              "          const element = document.querySelector('#df-dd307e22-aa14-4f48-b1e5-23287281b654');\n",
              "          const dataTable =\n",
              "            await google.colab.kernel.invokeFunction('convertToInteractive',\n",
              "                                                     [key], {});\n",
              "          if (!dataTable) return;\n",
              "\n",
              "          const docLinkHtml = 'Like what you see? Visit the ' +\n",
              "            '<a target=\"_blank\" href=https://colab.research.google.com/notebooks/data_table.ipynb>data table notebook</a>'\n",
              "            + ' to learn more about interactive tables.';\n",
              "          element.innerHTML = '';\n",
              "          dataTable['output_type'] = 'display_data';\n",
              "          await google.colab.output.renderOutput(dataTable, element);\n",
              "          const docLink = document.createElement('div');\n",
              "          docLink.innerHTML = docLinkHtml;\n",
              "          element.appendChild(docLink);\n",
              "        }\n",
              "      </script>\n",
              "    </div>\n",
              "  </div>\n",
              "  "
            ]
          },
          "metadata": {}
        },
        {
          "output_type": "display_data",
          "data": {
            "text/plain": [
              "{'id': '70668170',\n",
              " 'premium': False,\n",
              " 'name': 'Team Lead Python/Django/Руководитель отдела разработки и тестирования',\n",
              " 'department': None,\n",
              " 'has_test': False,\n",
              " 'response_letter_required': False,\n",
              " 'area': {'id': '1', 'name': 'Москва', 'url': 'https://api.hh.ru/areas/1'},\n",
              " 'salary': {'from': 300000, 'to': 400000, 'currency': 'RUR', 'gross': False},\n",
              " 'type': {'id': 'anonymous', 'name': 'Анонимная'},\n",
              " 'address': None,\n",
              " 'response_url': None,\n",
              " 'sort_point_distance': None,\n",
              " 'published_at': '2022-10-19T08:14:17+0300',\n",
              " 'created_at': '2022-10-19T08:14:17+0300',\n",
              " 'archived': False,\n",
              " 'apply_alternate_url': 'https://hh.ru/applicant/vacancy_response?vacancyId=70668170',\n",
              " 'insider_interview': None,\n",
              " 'url': 'https://api.hh.ru/vacancies/70668170?host=hh.ru',\n",
              " 'adv_response_url': 'https://api.hh.ru/vacancies/70668170/adv_response?host=hh.ru',\n",
              " 'alternate_url': 'https://hh.ru/vacancy/70668170',\n",
              " 'relations': [],\n",
              " 'employer': {'name': 'IT-Компания', 'trusted': True},\n",
              " 'snippet': {'requirement': '...ёмко доносить свои мысли. Умение отделять срочное от важного. Понимание, зачем мы делаем ИТ-продукты, что есть результат работы <highlighttext>разработчиков</highlighttext>.',\n",
              "  'responsibility': 'Проектирование программных решений, интеграций, API. Разработка нового функционала на <highlighttext>Python</highlighttext> / Django. Рефакторинг текущей кодовой базы, проведение ревью. Поиск ошибок, их...'},\n",
              " 'contacts': None,\n",
              " 'schedule': {'id': 'fullDay', 'name': 'Полный день'},\n",
              " 'working_days': [],\n",
              " 'working_time_intervals': [],\n",
              " 'working_time_modes': [],\n",
              " 'accept_temporary': False}"
            ]
          },
          "metadata": {}
        },
        {
          "output_type": "stream",
          "name": "stdout",
          "text": [
            "CPU times: user 1min 24s, sys: 1.07 s, total: 1min 25s\n",
            "Wall time: 3min 32s\n"
          ]
        }
      ]
    },
    {
      "cell_type": "code",
      "source": [
        "df.shape"
      ],
      "metadata": {
        "colab": {
          "base_uri": "https://localhost:8080/"
        },
        "id": "J79P0rzv36ll",
        "outputId": "e63fe8dd-dab0-4b99-9814-366e0163d411"
      },
      "execution_count": 3,
      "outputs": [
        {
          "output_type": "execute_result",
          "data": {
            "text/plain": [
              "(500, 29)"
            ]
          },
          "metadata": {},
          "execution_count": 3
        }
      ]
    },
    {
      "cell_type": "markdown",
      "source": [
        "### Задание №2"
      ],
      "metadata": {
        "id": "Spfq7Co7cyXD"
      }
    },
    {
      "cell_type": "code",
      "source": [
        "def palindrom(row):\n",
        "  if row.replace(' ','') == row[::-1].replace(' ',''):\n",
        "    return True\n",
        "  else:\n",
        "    return False\n",
        "\n",
        "x = 'black cat'\n",
        "y = 'taco cat'\n",
        "\n",
        "display(palindrom(x), \n",
        "        palindrom(y))"
      ],
      "metadata": {
        "colab": {
          "base_uri": "https://localhost:8080/",
          "height": 52
        },
        "id": "IbtAjjXtWUlS",
        "outputId": "c58772c3-6b83-46c0-a724-bb02069620a9"
      },
      "execution_count": 4,
      "outputs": [
        {
          "output_type": "display_data",
          "data": {
            "text/plain": [
              "False"
            ]
          },
          "metadata": {}
        },
        {
          "output_type": "display_data",
          "data": {
            "text/plain": [
              "True"
            ]
          },
          "metadata": {}
        }
      ]
    },
    {
      "cell_type": "markdown",
      "source": [
        "### Задание №3"
      ],
      "metadata": {
        "id": "RRmVKGfac3uG"
      }
    },
    {
      "cell_type": "code",
      "source": [
        "num_pool = [3,9,40,55,1945]\n",
        "num_pool = [conv.arab_rom(item) for item in num_pool]\n",
        "display(num_pool)\n"
      ],
      "metadata": {
        "colab": {
          "base_uri": "https://localhost:8080/",
          "height": 34
        },
        "id": "0MnWM3EYdFTH",
        "outputId": "f0a844c7-dcba-41d5-c797-a9e086b8f15b"
      },
      "execution_count": 5,
      "outputs": [
        {
          "output_type": "display_data",
          "data": {
            "text/plain": [
              "['III', 'IX', 'XL', 'LV', 'MCMXLV']"
            ]
          },
          "metadata": {}
        }
      ]
    },
    {
      "cell_type": "markdown",
      "source": [
        "### Задание №4 (ну зачем такое счастье?)"
      ],
      "metadata": {
        "id": "ZXRP0kwseQwS"
      }
    },
    {
      "cell_type": "markdown",
      "source": [
        "![CeBRf.jpg](data:image/jpeg;base64,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)"
      ],
      "metadata": {
        "id": "14M1xZvFvNxT"
      }
    },
    {
      "cell_type": "code",
      "source": [
        "# pairs_dict = {'(':')','{':'}','[':']'}\n",
        "# display(pairs_dict.keys(),\n",
        "#         pairs_dict['['])"
      ],
      "metadata": {
        "id": "h043ZUTpvCSF"
      },
      "execution_count": 6,
      "outputs": []
    },
    {
      "cell_type": "code",
      "source": [
        "row = '[{}({})]'\n",
        "\n",
        "def are_closed(row):\n",
        "  massive =  []\n",
        "  pairs_dict = {'(':')','{':'}','[':']'}\n",
        "\n",
        "  if len(row)%2 != 0:\n",
        "    return False\n",
        "\n",
        "  for item in row:\n",
        "    if item in pairs_dict.keys():\n",
        "      massive.append(item)\n",
        "      # print(massive)\n",
        "    else:\n",
        "      if massive == []: #а если криво вошло, с закрывающей скобки инстантно?\n",
        "        return False\n",
        "      open_brackets = massive.pop()\n",
        "      # print(open_brackets)\n",
        "\n",
        "      if item != pairs_dict[open_brackets]:\n",
        "        return False\n",
        "  return massive == []\n",
        "\n",
        "  are_closed(row)"
      ],
      "metadata": {
        "id": "qFLQRs5MjB7T"
      },
      "execution_count": 7,
      "outputs": []
    },
    {
      "cell_type": "markdown",
      "source": [
        "### Задание №5"
      ],
      "metadata": {
        "id": "BOtjUHbVvLvF"
      }
    },
    {
      "cell_type": "code",
      "source": [
        "x,y = str(input()),str(input())\n",
        "\n",
        "def multiplier(x,y):\n",
        "  return(\n",
        "      (bin(int(x,2)*int(y,2)))[2::]\n",
        "      )\n",
        "  \n",
        "# a = '111'\n",
        "# b = '101'\n",
        "\n",
        "multiplier(x,y)"
      ],
      "metadata": {
        "colab": {
          "base_uri": "https://localhost:8080/",
          "height": 70
        },
        "id": "LrCBUkx7vLZe",
        "outputId": "60a689fa-3e93-49aa-ce20-bdb25361b614"
      },
      "execution_count": 8,
      "outputs": [
        {
          "name": "stdout",
          "output_type": "stream",
          "text": [
            "101\n",
            "111\n"
          ]
        },
        {
          "output_type": "execute_result",
          "data": {
            "text/plain": [
              "'100011'"
            ],
            "application/vnd.google.colaboratory.intrinsic+json": {
              "type": "string"
            }
          },
          "metadata": {},
          "execution_count": 8
        }
      ]
    }
  ]
}